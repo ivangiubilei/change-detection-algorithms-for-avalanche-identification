{
 "cells": [
  {
   "cell_type": "code",
   "execution_count": 23,
   "id": "cca192f4-e5ff-4921-81f8-87ea69c6b2af",
   "metadata": {},
   "outputs": [],
   "source": [
    "import geopandas as gpd\n",
    "import json\n",
    "import os\n",
    "import requests\n",
    "import urllib\n",
    "\n",
    "from datetime import datetime\n",
    "from pathlib import Path\n",
    "from typing import Tuple"
   ]
  },
  {
   "cell_type": "code",
   "execution_count": 24,
   "id": "a3329351-665e-40df-91f7-37a690de9659",
   "metadata": {},
   "outputs": [],
   "source": [
    "def shapefile_to_bbox(shapefile_path: Path, target_epsg: int = 4326) -> Tuple[float, float, float, float]:\n",
    "    \"\"\"\n",
    "    Read a shapefile, reproject to the target CRS, and return its bounding box.\n",
    "\n",
    "    Returns:\n",
    "        (minx, miny, maxx, maxy) in the target CRS.\n",
    "    \"\"\"\n",
    "    gdf = gpd.read_file(shapefile_path)\n",
    "    gdf = gdf.to_crs(epsg=target_epsg)\n",
    "    minx, miny, maxx, maxy = gdf.total_bounds\n",
    "    return minx, miny, maxx, maxy\n",
    "\n",
    "# path where annotations are located\n",
    "ANNOTATIONS_PATH = Path(\"../landslides-detection-main/inventories/\")\n",
    "LOMBOK_PATH = ANNOTATIONS_PATH / \"Lombok2018\"\n",
    "PHILIPPINES_PATH = ANNOTATIONS_PATH / \"Philippines2019\"\n",
    "EMILIA_PATH = ANNOTATIONS_PATH / \"EmiliaRomagna2023\"\n",
    "MICHOACAN_PATH = ANNOTATIONS_PATH / \"Michoacan2022\"\n",
    "\n",
    "# inventories list\n",
    "INVENTORIES = [\n",
    "    {\n",
    "        \"name\": \"Lombok2018\",\n",
    "        \"area\": LOMBOK_PATH / \"area.shp\",\n",
    "        \"dates\": [datetime(2018, 9, 9), datetime(2018, 9, 13), datetime(2018, 9, 27)],\n",
    "    },\n",
    "    {\n",
    "        \"name\": \"Philippines2019\",\n",
    "        \"area\": PHILIPPINES_PATH / \"area_study.shp\",\n",
    "        \"dates\": [datetime(2020, 5, 2)],\n",
    "    },\n",
    "    {\n",
    "        \"name\": \"Michoacan2022\",\n",
    "        \"area\": EMILIA_PATH / \"Area_rev.shp\",\n",
    "        \"dates\": [datetime(2022, 9, 25), datetime(2022, 10, 31)],\n",
    "    },\n",
    "    {\n",
    "        \"name\": \"EmiliaRomagna2023\",\n",
    "        \"area\": MICHOACAN_PATH / \"investigated_area_LS_Michoacan2022.shp\",\n",
    "        \"dates\": [datetime(2023, 5, 22)],\n",
    "    },\n",
    "]\n"
   ]
  },
  {
   "cell_type": "code",
   "execution_count": 25,
   "id": "ea33c9c1-77d5-4d03-81c4-52b3c6026955",
   "metadata": {},
   "outputs": [],
   "source": [
    "with open(\"./key.txt\", \"r\") as f:\n",
    "    API_key = f.read()"
   ]
  },
  {
   "cell_type": "markdown",
   "id": "a28e546e-f04c-4ac4-8382-6f22bf35cb27",
   "metadata": {},
   "source": [
    "## Testing"
   ]
  },
  {
   "cell_type": "code",
   "execution_count": 26,
   "id": "a1eee58e-b051-431b-934b-f6df555c1389",
   "metadata": {},
   "outputs": [],
   "source": [
    "API_URL = \"https://api.planet.com/basemaps/v1/mosaics\"\n",
    "session = requests.Session()\n",
    "session.auth = (API_key, \"\")\n",
    "\n",
    "# get list of available mosaics\n",
    "response = session.get(API_URL)\n",
    "data = response.json()"
   ]
  },
  {
   "cell_type": "code",
   "execution_count": 27,
   "id": "7f7fe7d0-fe6b-4701-981c-3367b1776f47",
   "metadata": {},
   "outputs": [
    {
     "name": "stdout",
     "output_type": "stream",
     "text": [
      "global_monthly_2016_01_mosaic\n",
      "global_monthly_2016_02_mosaic\n"
     ]
    }
   ],
   "source": [
    "BASE_URL = \"https://api.planet.com/basemaps/v1/mosaics?api_key={}\"\n",
    "res = requests.get(BASE_URL.format(API_key))\n",
    "\n",
    "for i, _ in enumerate(res.json()):\n",
    "    print(res.json()[\"mosaics\"][i][\"name\"])"
   ]
  },
  {
   "cell_type": "code",
   "execution_count": 28,
   "id": "2ac07b3a-3685-42ce-a47a-9599b5098083",
   "metadata": {},
   "outputs": [
    {
     "name": "stdout",
     "output_type": "stream",
     "text": [
      "200\n"
     ]
    }
   ],
   "source": [
    "y = \"2016\"\n",
    "m = \"03\"\n",
    "\n",
    "params = {\n",
    "    \"name__is\" :f\"global_monthly_{y}_{m}_mosaic\"\n",
    "}\n",
    "\n",
    "res = session.get(API_URL, params = params)\n",
    "print(res.status_code)\n",
    "\n",
    "mosaic = res.json()\n",
    "#print(json.dumps(mosaic, indent=2))"
   ]
  },
  {
   "cell_type": "code",
   "execution_count": 29,
   "id": "61012e71-0d81-47cd-96ae-8a584e22483c",
   "metadata": {},
   "outputs": [
    {
     "name": "stdout",
     "output_type": "stream",
     "text": [
      "Mosaic id: cfd6a60f-ec1e-491d-a885-e06d43990bd5\n",
      "Mosaic bbox: -180,-55,180,76\n"
     ]
    }
   ],
   "source": [
    "#get id\n",
    "mosaic_id = mosaic['mosaics'][0]['id']\n",
    "#get bbox for entire mosaic\n",
    "mosaic_bbox = mosaic['mosaics'][0]['bbox']\n",
    "#converting bbox to string for search params\n",
    "string_bbox = ','.join(map(str, mosaic_bbox))\n",
    "\n",
    "print('Mosaic id: '+ mosaic_id)\n",
    "print('Mosaic bbox: '+ string_bbox)"
   ]
  },
  {
   "cell_type": "markdown",
   "id": "0c4e3947-4644-4d6a-863b-6f35d2f63029",
   "metadata": {},
   "source": [
    "## Solution - bbox coordinates are not set correctly"
   ]
  },
  {
   "cell_type": "markdown",
   "id": "50db5fe7-1470-4c13-b15b-e4c8f94e49d9",
   "metadata": {},
   "source": [
    "With valid coordinates, you will receive a list of items.\n",
    "The download process then iterates through each item, retrieves its link, and downloads the corresponding content.\n",
    "\n",
    "To select the month and year, change the \"name__is\" parameter."
   ]
  },
  {
   "cell_type": "code",
   "execution_count": 30,
   "id": "960ac7ae-abd1-4d19-9a03-c76ccae62691",
   "metadata": {
    "scrolled": true
   },
   "outputs": [
    {
     "name": "stdout",
     "output_type": "stream",
     "text": [
      "BBox: 116.03246503532793,-8.56332060429984,116.70731520051434,-8.257044874009\n",
      "Status code: 200\n"
     ]
    }
   ],
   "source": [
    "y = \"2018\"\n",
    "m = \"09\"\n",
    "\n",
    "# Get bounding box as tuple and convert to string\n",
    "area_bbox = shapefile_to_bbox(INVENTORIES[0][\"area\"])  # Returns (minx, miny, maxx, maxy)\n",
    "area_bbox_str = \",\".join(map(str, area_bbox))\n",
    "\n",
    "print(\"BBox:\", area_bbox_str)\n",
    "\n",
    "# Prepare API request parameters\n",
    "search_parameters = {\n",
    "    \"name__is\": f\"global_monthly_{y}_{m}_mosaic\",\n",
    "    \"bbox\": area_bbox_str,\n",
    "    \"level\": str(18),\n",
    "}\n",
    "\n",
    "quads_url = f\"{API_URL}/{mosaic_id}/quads\"\n",
    "\n",
    "# Send request\n",
    "res = session.get(quads_url, params=search_parameters, stream=True)\n",
    "\n",
    "# Handle response\n",
    "print(\"Status code:\", res.status_code)\n",
    "try:\n",
    "    data = res.json()\n",
    "    #print(\"Response:\", json.dumps(data, indent=2))\n",
    "\n",
    "    if \"items\" in data:\n",
    "        items = data[\"items\"]\n",
    "        #print(\"First quad item:\\n\", json.dumps(items[0], indent=2))\n",
    "    else:\n",
    "        print(\"No quads found for the given bbox.\")\n",
    "except Exception as e:\n",
    "    print(\"Error parsing JSON:\", e)"
   ]
  },
  {
   "cell_type": "code",
   "execution_count": 31,
   "id": "286f280f-a3c2-4db5-901b-1b0d1624cff7",
   "metadata": {},
   "outputs": [],
   "source": [
    "# download\n",
    "# a folder named \"quads\" has to be created beforehand\n",
    "for i in items:\n",
    "    link = i['_links']['download']\n",
    "    name = i['id']\n",
    "    name = name + '.tiff'\n",
    "    DIR = 'quads/test'\n",
    "    filename = os.path.join(DIR, name)\n",
    "\n",
    "    # remove the comment to actually download images\n",
    "    if not os.path.isfile(filename):\n",
    "        pass\n",
    "        #urllib.request.urlretrieve(link, filename)"
   ]
  },
  {
   "cell_type": "markdown",
   "id": "f2d2bdec-46a4-4f73-bd0a-82dafb7c1eee",
   "metadata": {},
   "source": [
    "# Automated"
   ]
  },
  {
   "cell_type": "code",
   "execution_count": 32,
   "id": "5c23f337-2f45-416f-82e4-a3156b1c715d",
   "metadata": {},
   "outputs": [],
   "source": [
    "def get_previous_month(month_str, year_str):\n",
    "    month = int(month_str)\n",
    "    year = int(year_str)\n",
    "\n",
    "    if month == 1:\n",
    "        prev_month = 12\n",
    "        prev_year = year - 1\n",
    "    else:\n",
    "        prev_month = month - 1\n",
    "        prev_year = year\n",
    "\n",
    "    return f\"{prev_month:02}\", str(prev_year)\n",
    "\n",
    "\n",
    "def get_next_month(month_str, year_str):\n",
    "    month = int(month_str)\n",
    "    year = int(year_str)\n",
    "\n",
    "    if month == 12:\n",
    "        next_month = 1\n",
    "        next_year = year + 1\n",
    "    else:\n",
    "        next_month = month + 1\n",
    "        next_year = year\n",
    "\n",
    "    return f\"{next_month:02}\", str(next_year)"
   ]
  },
  {
   "cell_type": "code",
   "execution_count": 33,
   "id": "f2038d50-eb52-4f8f-bdbb-f321e13ac5c7",
   "metadata": {},
   "outputs": [
    {
     "name": "stdout",
     "output_type": "stream",
     "text": [
      "08 2018\n",
      "10 2018\n",
      "Status code: 200\n",
      "Status code: 200\n",
      "04 2020\n",
      "06 2020\n",
      "Status code: 200\n",
      "Status code: 200\n",
      "08 2022\n",
      "11 2022\n",
      "Status code: 200\n",
      "Status code: 200\n",
      "04 2023\n",
      "06 2023\n",
      "Status code: 200\n",
      "Status code: 200\n"
     ]
    }
   ],
   "source": [
    "for el in INVENTORIES:\n",
    "    dates = el[\"dates\"]\n",
    "\n",
    "    # gets the date before the first date and after the last date\n",
    "    if len(dates) == 1:\n",
    "        year = dates[0].year\n",
    "        month = dates[0].month\n",
    "\n",
    "        month_before, year_before = get_previous_month(month, year)\n",
    "        month_after, year_after = get_next_month(month, year)\n",
    "    else:\n",
    "        first_year = dates[0].year\n",
    "        last_year = dates[-1].year\n",
    "        first_month = dates[0].month\n",
    "        last_month = dates[-1].month\n",
    "        \n",
    "        month_before, year_before = get_previous_month(first_month, first_year)\n",
    "        month_after, year_after = get_next_month(last_month, last_year)\n",
    "    \n",
    "    print(month_before, year_before)\n",
    "    print(month_after, year_after)\n",
    "    \n",
    "    # get bounding box as tuple and convert to string\n",
    "    area_bbox = shapefile_to_bbox(el[\"area\"])  # Returns (minx, miny, maxx, maxy)\n",
    "    area_bbox_str = \",\".join(map(str, area_bbox))\n",
    "    \n",
    "    #print(\"BBox:\", area_bbox_str)\n",
    "    \n",
    "    # prepare API request parameters\n",
    "    search_parameters_before = {\n",
    "        \"name__is\": f\"global_monthly_{year_before}_{month_before}_mosaic\",\n",
    "        \"bbox\": area_bbox_str,\n",
    "        \"minimal\": True\n",
    "    }\n",
    "    \n",
    "    search_parameters_after = {\n",
    "        \"name__is\": f\"global_monthly_{year_after}_{month_after}_mosaic\",\n",
    "        \"bbox\": area_bbox_str,\n",
    "        \"minimal\": True\n",
    "    }\n",
    "    \n",
    "    quads_url = f\"{API_URL}/{mosaic_id}/quads\"\n",
    "    \n",
    "    # send request (before)\n",
    "    res = session.get(quads_url, params=search_parameters_before, stream=True)\n",
    "    \n",
    "    # handle response\n",
    "    print(\"Status code:\", res.status_code)\n",
    "    try:\n",
    "        data = res.json()\n",
    "        #print(\"Response:\", json.dumps(data, indent=2))\n",
    "    \n",
    "        if \"items\" in data:\n",
    "            items = data[\"items\"]\n",
    "            #print(\"First quad item:\\n\", json.dumps(items[0], indent=2))\n",
    "        else:\n",
    "            print(\"No quads found for the given bbox.\")\n",
    "    except Exception as e:\n",
    "        print(\"Error parsing JSON:\", e)\n",
    "\n",
    "    # download images (before)\n",
    "    for i in items:\n",
    "        link = i['_links']['download']\n",
    "        name = i['id']\n",
    "        name = name + '_before' + '.tiff'\n",
    "        DIR = 'quads/' + el[\"name\"]\n",
    "\n",
    "        os.makedirs(DIR, exist_ok=True)\n",
    "        \n",
    "        filename = os.path.join(DIR, name)\n",
    "        \n",
    "        if not os.path.isfile(filename):\n",
    "            urllib.request.urlretrieve(link, filename)\n",
    "\n",
    "    # send request (after)\n",
    "    res = session.get(quads_url, params=search_parameters_after, stream=True)\n",
    "    \n",
    "    # handle response\n",
    "    print(\"Status code:\", res.status_code)\n",
    "    try:\n",
    "        data = res.json()\n",
    "        #print(\"Response:\", json.dumps(data, indent=2))\n",
    "    \n",
    "        if \"items\" in data:\n",
    "            items = data[\"items\"]\n",
    "            #print(\"First quad item:\\n\", json.dumps(items[0], indent=2))\n",
    "        else:\n",
    "            print(\"No quads found for the given bbox.\")\n",
    "    except Exception as e:\n",
    "        print(\"Error parsing JSON:\", e)\n",
    "\n",
    "    # download images (after)\n",
    "    for i in items:\n",
    "        link = i['_links']['download']\n",
    "        name = i['id']\n",
    "        name = name + '_after' + '.tiff'\n",
    "        DIR = 'quads/' + el[\"name\"]\n",
    "\n",
    "        os.makedirs(DIR, exist_ok=True)\n",
    "        \n",
    "        filename = os.path.join(DIR, name)\n",
    "        \n",
    "        if not os.path.isfile(filename):\n",
    "            urllib.request.urlretrieve(link, filename)"
   ]
  }
 ],
 "metadata": {
  "kernelspec": {
   "display_name": "mosaics_venv",
   "language": "python",
   "name": "mosaics_venv"
  },
  "language_info": {
   "codemirror_mode": {
    "name": "ipython",
    "version": 3
   },
   "file_extension": ".py",
   "mimetype": "text/x-python",
   "name": "python",
   "nbconvert_exporter": "python",
   "pygments_lexer": "ipython3",
   "version": "3.11.10"
  }
 },
 "nbformat": 4,
 "nbformat_minor": 5
}
