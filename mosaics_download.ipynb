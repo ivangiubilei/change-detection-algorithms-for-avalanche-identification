{
 "cells": [
  {
   "cell_type": "code",
   "execution_count": 1,
   "id": "cca192f4-e5ff-4921-81f8-87ea69c6b2af",
   "metadata": {},
   "outputs": [],
   "source": [
    "import geopandas as gpd\n",
    "import json\n",
    "import os\n",
    "import requests\n",
    "import urllib\n",
    "\n",
    "from datetime import datetime\n",
    "from pathlib import Path\n",
    "from typing import Tuple"
   ]
  },
  {
   "cell_type": "code",
   "execution_count": 2,
   "id": "a3329351-665e-40df-91f7-37a690de9659",
   "metadata": {},
   "outputs": [],
   "source": [
    "def shapefile_to_bbox(shapefile_path: Path, target_epsg: int = 4326) -> Tuple[float, float, float, float]:\n",
    "    \"\"\"\n",
    "    Read a shapefile, reproject to the target CRS, and return its bounding box.\n",
    "\n",
    "    Returns:\n",
    "        (minx, miny, maxx, maxy) in the target CRS.\n",
    "    \"\"\"\n",
    "    gdf = gpd.read_file(shapefile_path)\n",
    "    gdf = gdf.to_crs(epsg=target_epsg)\n",
    "    minx, miny, maxx, maxy = gdf.total_bounds\n",
    "    return minx, miny, maxx, maxy\n",
    "\n",
    "# path where annotations are located\n",
    "ANNOTATIONS_PATH = Path(\"../landslides-detection-main/inventories/\")\n",
    "LOMBOK_PATH = ANNOTATIONS_PATH / \"Lombok2018\"\n",
    "PHILIPPINES_PATH = ANNOTATIONS_PATH / \"Philippines2019\"\n",
    "EMILIA_PATH = ANNOTATIONS_PATH / \"EmiliaRomagna2023\"\n",
    "MICHOACAN_PATH = ANNOTATIONS_PATH / \"Michoacan2022\"\n",
    "\n",
    "# inventories list\n",
    "INVENTORIES = [\n",
    "    {\n",
    "        \"name\": \"Lombok2018\",\n",
    "        \"area\": LOMBOK_PATH / \"area.shp\",\n",
    "        \"dates\": [datetime(2018, 8, 5), datetime(2018, 8, 19)],\n",
    "    },\n",
    "    {\n",
    "        \"name\": \"Philippines2019\",\n",
    "        \"area\": PHILIPPINES_PATH / \"area_study.shp\",\n",
    "        \"dates\": [datetime(2019, 10, 16), datetime(2019, 10, 29), datetime(2019, 10, 31), datetime(2019, 12, 15)],\n",
    "    },\n",
    "    {\n",
    "        \"name\": \"Michoacan2022\",\n",
    "        \"area\": EMILIA_PATH / \"Area_rev.shp\",\n",
    "        \"dates\": [datetime(2022, 9, 19)],\n",
    "    },\n",
    "    {\n",
    "        \"name\": \"EmiliaRomagna2023\",\n",
    "        \"area\": MICHOACAN_PATH / \"investigated_area_LS_Michoacan2022.shp\",\n",
    "        \"dates\": [datetime(2023, 5, 16), datetime(2023, 5, 17)],\n",
    "    },\n",
    "]\n"
   ]
  },
  {
   "cell_type": "code",
   "execution_count": 3,
   "id": "ea33c9c1-77d5-4d03-81c4-52b3c6026955",
   "metadata": {},
   "outputs": [],
   "source": [
    "with open(\"./key.txt\", \"r\") as f:\n",
    "    API_key = f.read()"
   ]
  },
  {
   "cell_type": "markdown",
   "id": "a28e546e-f04c-4ac4-8382-6f22bf35cb27",
   "metadata": {},
   "source": [
    "## Testing"
   ]
  },
  {
   "cell_type": "code",
   "execution_count": 4,
   "id": "a1eee58e-b051-431b-934b-f6df555c1389",
   "metadata": {},
   "outputs": [],
   "source": [
    "API_URL = \"https://api.planet.com/basemaps/v1/mosaics\"\n",
    "session = requests.Session()\n",
    "session.auth = (API_key, \"\")\n",
    "\n",
    "# get list of available mosaics\n",
    "response = session.get(API_URL)\n",
    "data = response.json()"
   ]
  },
  {
   "cell_type": "code",
   "execution_count": 5,
   "id": "7f7fe7d0-fe6b-4701-981c-3367b1776f47",
   "metadata": {},
   "outputs": [
    {
     "name": "stdout",
     "output_type": "stream",
     "text": [
      "global_monthly_2016_01_mosaic\n",
      "global_monthly_2016_02_mosaic\n"
     ]
    }
   ],
   "source": [
    "BASE_URL = \"https://api.planet.com/basemaps/v1/mosaics?api_key={}\"\n",
    "res = requests.get(BASE_URL.format(API_key))\n",
    "\n",
    "for i, _ in enumerate(res.json()):\n",
    "    print(res.json()[\"mosaics\"][i][\"name\"])"
   ]
  },
  {
   "cell_type": "code",
   "execution_count": 6,
   "id": "2ac07b3a-3685-42ce-a47a-9599b5098083",
   "metadata": {},
   "outputs": [
    {
     "name": "stdout",
     "output_type": "stream",
     "text": [
      "200\n"
     ]
    }
   ],
   "source": [
    "y = \"2016\"\n",
    "m = \"03\"\n",
    "\n",
    "params = {\n",
    "    \"name__is\" :f\"global_monthly_{y}_{m}_mosaic\"\n",
    "}\n",
    "\n",
    "res = session.get(API_URL, params = params)\n",
    "print(res.status_code)\n",
    "\n",
    "mosaic = res.json()\n",
    "#print(json.dumps(mosaic, indent=2))"
   ]
  },
  {
   "cell_type": "code",
   "execution_count": 7,
   "id": "61012e71-0d81-47cd-96ae-8a584e22483c",
   "metadata": {},
   "outputs": [
    {
     "name": "stdout",
     "output_type": "stream",
     "text": [
      "cfd6a60f-ec1e-491d-a885-e06d43990bd5\n",
      "Mosaic id: cfd6a60f-ec1e-491d-a885-e06d43990bd5\n",
      "Mosaic bbox: -180,-55,180,76\n"
     ]
    }
   ],
   "source": [
    "#get id\n",
    "mosaic_id = mosaic['mosaics'][0]['id']\n",
    "print(mosaic_id)\n",
    "#get bbox for entire mosaic\n",
    "mosaic_bbox = mosaic['mosaics'][0]['bbox']\n",
    "#converting bbox to string for search params\n",
    "string_bbox = ','.join(map(str, mosaic_bbox))\n",
    "\n",
    "print('Mosaic id: '+ mosaic_id)\n",
    "print('Mosaic bbox: '+ string_bbox)"
   ]
  },
  {
   "cell_type": "code",
   "execution_count": 8,
   "id": "960ac7ae-abd1-4d19-9a03-c76ccae62691",
   "metadata": {
    "scrolled": true
   },
   "outputs": [
    {
     "name": "stdout",
     "output_type": "stream",
     "text": [
      "BBox: 116.03246503532793,-8.56332060429984,116.70731520051434,-8.257044874009\n",
      "Status code: 200\n",
      "No quads found for the given bbox.\n"
     ]
    }
   ],
   "source": [
    "y = \"2018\"\n",
    "m = \"09\"\n",
    "\n",
    "# Get bounding box as tuple and convert to string\n",
    "area_bbox = shapefile_to_bbox(INVENTORIES[0][\"area\"])  # Returns (minx, miny, maxx, maxy)\n",
    "area_bbox_str = \",\".join(map(str, area_bbox))\n",
    "\n",
    "print(\"BBox:\", area_bbox_str)\n",
    "\n",
    "# Prepare API request parameters\n",
    "search_parameters = {\n",
    "    \"name__is\": f\"global_monthly_{y}_{m}_mosaic\",\n",
    "    \"bbox\": area_bbox_str,\n",
    "    \"level\": str(18),\n",
    "}\n",
    "\n",
    "# Send request\n",
    "res = session.get(API_URL, params=search_parameters, stream=True)\n",
    "mosaic_id = mosaic['mosaics'][0]['id']\n",
    "\n",
    "quads_url = f\"{API_URL}/{mosaic_id}/quads\"\n",
    "\n",
    "# Handle response\n",
    "print(\"Status code:\", res.status_code)\n",
    "try:\n",
    "    data = res.json()\n",
    "    #print(\"Response:\", json.dumps(data, indent=2))\n",
    "\n",
    "    if \"items\" in data:\n",
    "        items = data[\"items\"]\n",
    "        #print(\"First quad item:\\n\", json.dumps(items[0], indent=2))\n",
    "    else:\n",
    "        print(\"No quads found for the given bbox.\")\n",
    "except Exception as e:\n",
    "    print(\"Error parsing JSON:\", e)"
   ]
  },
  {
   "cell_type": "code",
   "execution_count": 9,
   "id": "286f280f-a3c2-4db5-901b-1b0d1624cff7",
   "metadata": {},
   "outputs": [
    {
     "data": {
      "text/plain": [
       "\"\\nfor i in items:\\n    link = i['_links']['download']\\n    name = i['id']\\n    name = name + '.tiff'\\n    DIR = 'quads/test'\\n    filename = os.path.join(DIR, name)\\n\\n    # remove the comment to actually download images\\n    if not os.path.isfile(filename):\\n        pass\\n        #urllib.request.urlretrieve(link, filename)\\n\""
      ]
     },
     "execution_count": 9,
     "metadata": {},
     "output_type": "execute_result"
    }
   ],
   "source": [
    "# download\n",
    "# a folder named \"quads\" has to be created beforehand\n",
    "\"\"\"\n",
    "for i in items:\n",
    "    link = i['_links']['download']\n",
    "    name = i['id']\n",
    "    name = name + '.tiff'\n",
    "    DIR = 'quads/test'\n",
    "    filename = os.path.join(DIR, name)\n",
    "\n",
    "    # remove the comment to actually download images\n",
    "    if not os.path.isfile(filename):\n",
    "        pass\n",
    "        #urllib.request.urlretrieve(link, filename)\n",
    "\"\"\""
   ]
  },
  {
   "cell_type": "markdown",
   "id": "f2d2bdec-46a4-4f73-bd0a-82dafb7c1eee",
   "metadata": {},
   "source": [
    "# Automated"
   ]
  },
  {
   "cell_type": "code",
   "execution_count": 10,
   "id": "5c23f337-2f45-416f-82e4-a3156b1c715d",
   "metadata": {},
   "outputs": [],
   "source": [
    "def get_previous_month(month_str, year_str):\n",
    "    month = int(month_str)\n",
    "    year = int(year_str)\n",
    "\n",
    "    if month == 1:\n",
    "        prev_month = 12\n",
    "        prev_year = year - 1\n",
    "    else:\n",
    "        prev_month = month - 1\n",
    "        prev_year = year\n",
    "\n",
    "    return f\"{prev_month:02}\", str(prev_year)\n",
    "\n",
    "\n",
    "def get_next_month(month_str, year_str):\n",
    "    month = int(month_str)\n",
    "    year = int(year_str)\n",
    "\n",
    "    if month == 12:\n",
    "        next_month = 1\n",
    "        next_year = year + 1\n",
    "    else:\n",
    "        next_month = month + 1\n",
    "        next_year = year\n",
    "\n",
    "    return f\"{next_month:02}\", str(next_year)"
   ]
  },
  {
   "cell_type": "code",
   "execution_count": 11,
   "id": "2e021924-050f-4925-a0cb-67be05db2db2",
   "metadata": {},
   "outputs": [
    {
     "name": "stdout",
     "output_type": "stream",
     "text": [
      "Looking for mosaic: global_monthly_2018_08_mosaic\n",
      "Using mosaic_id: 513bc1c8-25b3-4dee-b80c-cdc8e4b2099a\n",
      "Status code for quads (before): 200\n",
      "Looking for mosaic: global_monthly_2018_10_mosaic\n",
      "Using mosaic_id: 28be1b87-3bda-4644-b087-e39c141e2634\n",
      "Status code for quads (after): 200\n",
      "Looking for mosaic: global_monthly_2020_04_mosaic\n",
      "Using mosaic_id: 8b9dd650-dc7e-4082-a37f-867250a1cb6e\n",
      "Status code for quads (before): 200\n",
      "Looking for mosaic: global_monthly_2020_06_mosaic\n",
      "Using mosaic_id: dfd557ec-a498-418a-9b1b-f7fa61f758b5\n",
      "Status code for quads (after): 200\n",
      "Looking for mosaic: global_monthly_2022_08_mosaic\n",
      "Using mosaic_id: d5e3fd0f-a258-42b7-9305-8cc40a1edb78\n",
      "Status code for quads (before): 200\n",
      "Looking for mosaic: global_monthly_2022_11_mosaic\n",
      "Using mosaic_id: c8f1f87c-f2f7-477b-a875-4045ae517975\n",
      "Status code for quads (after): 200\n",
      "Looking for mosaic: global_monthly_2023_04_mosaic\n",
      "Using mosaic_id: 8c90df74-3736-4950-afdb-9de3063d7a3f\n",
      "Status code for quads (before): 200\n",
      "Looking for mosaic: global_monthly_2023_06_mosaic\n",
      "Using mosaic_id: 0a21cf28-7e4c-4eb7-895d-cc868e28e4ee\n",
      "Status code for quads (after): 200\n"
     ]
    }
   ],
   "source": [
    "# working\n",
    "for el in INVENTORIES:\n",
    "    dates = el[\"dates\"]\n",
    "\n",
    "    if len(dates) == 1:\n",
    "        year = dates[0].year\n",
    "        month = dates[0].month\n",
    "        month_before, year_before = get_previous_month(month, year)\n",
    "        month_after, year_after = get_next_month(month, year)\n",
    "    else:\n",
    "        first_year = dates[0].year\n",
    "        last_year = dates[-1].year\n",
    "        first_month = dates[0].month\n",
    "        last_month = dates[-1].month\n",
    "        month_before, year_before = get_previous_month(first_month, first_year)\n",
    "        month_after, year_after = get_next_month(last_month, last_year)\n",
    "\n",
    "    area_bbox = shapefile_to_bbox(el[\"area\"])\n",
    "    area_bbox_str = \",\".join(map(str, area_bbox))\n",
    "\n",
    "    for tag, y, m in [(\"before\", year_before, month_before), (\"after\", year_after, month_after)]:\n",
    "        mosaic_name = f\"global_monthly_{y}_{m}_mosaic\"\n",
    "\n",
    "        print(f\"Looking for mosaic: {mosaic_name}\")\n",
    "        \n",
    "        # Get the mosaic ID\n",
    "        res = session.get(API_URL, params={\"name__is\": mosaic_name}, stream=True)\n",
    "        if res.status_code != 200:\n",
    "            print(f\"Failed to find mosaic '{mosaic_name}':\", res.status_code)\n",
    "            continue\n",
    "        \n",
    "        try:\n",
    "            data = res.json()\n",
    "            if \"mosaics\" not in data or not data[\"mosaics\"]:\n",
    "                print(f\"No mosaics found for '{mosaic_name}'\")\n",
    "                continue\n",
    "            mosaic_id = data[\"mosaics\"][0][\"id\"]\n",
    "        except Exception as e:\n",
    "            print(\"Failed to parse mosaic response:\", e)\n",
    "            continue\n",
    "\n",
    "        print(f\"Using mosaic_id: {mosaic_id}\")\n",
    "\n",
    "        # Now get the quads for the bounding box\n",
    "        quads_url = f\"{API_URL}/{mosaic_id}/quads\"\n",
    "        res = session.get(quads_url, params={\"bbox\": area_bbox_str, \"minimal\": True}, stream=True)\n",
    "        print(f\"Status code for quads ({tag}):\", res.status_code)\n",
    "        \n",
    "        try:\n",
    "            data = res.json()\n",
    "            items = data.get(\"items\", [])\n",
    "            if not items:\n",
    "                print(f\"No quads found for {tag}\")\n",
    "                continue\n",
    "        except Exception as e:\n",
    "            print(\"Error parsing quads JSON:\", e)\n",
    "            continue\n",
    "\n",
    "        # Download quads\n",
    "        for i in items:\n",
    "            link = i['_links']['download']\n",
    "            name = i['id'] + f\"_{tag}.tiff\"\n",
    "            DIR = os.path.join('quads', el[\"name\"])\n",
    "            os.makedirs(DIR, exist_ok=True)\n",
    "            filename = os.path.join(DIR, name)\n",
    "\n",
    "            if not os.path.isfile(filename):\n",
    "                print(f\"Downloading {filename}\")\n",
    "                urllib.request.urlretrieve(link, filename)\n"
   ]
  },
  {
   "cell_type": "code",
   "execution_count": 17,
   "id": "7528c274-bb8d-4721-b328-f31e73c21547",
   "metadata": {},
   "outputs": [
    {
     "name": "stdout",
     "output_type": "stream",
     "text": [
      "reading: ./quads/Philippines2019/*_before.tiff\n",
      "philippines2019_before_merged.tiff mosaic written in ./quads/Philippines2019\n",
      "reading: ./quads/EmiliaRomagna2023/*_before.tiff\n",
      "emiliaromagna2023_before_merged.tiff mosaic written in ./quads/EmiliaRomagna2023\n",
      "reading: ./quads/Lombok2018/*_before.tiff\n",
      "lombok2018_before_merged.tiff mosaic written in ./quads/Lombok2018\n",
      "reading: ./quads/Michoacan2022/*_before.tiff\n",
      "michoacan2022_before_merged.tiff mosaic written in ./quads/Michoacan2022\n",
      "reading: ./quads/Philippines2019/*_after.tiff\n",
      "philippines2019_after_merged.tiff mosaic written in ./quads/Philippines2019\n",
      "reading: ./quads/EmiliaRomagna2023/*_after.tiff\n",
      "emiliaromagna2023_after_merged.tiff mosaic written in ./quads/EmiliaRomagna2023\n",
      "reading: ./quads/Lombok2018/*_after.tiff\n",
      "lombok2018_after_merged.tiff mosaic written in ./quads/Lombok2018\n",
      "reading: ./quads/Michoacan2022/*_after.tiff\n",
      "michoacan2022_after_merged.tiff mosaic written in ./quads/Michoacan2022\n"
     ]
    }
   ],
   "source": [
    "import rasterio\n",
    "from rasterio.merge import merge\n",
    "from rasterio.plot import show\n",
    "import glob\n",
    "import os\n",
    "\n",
    "def mergeTiff(path_root=\"./quads\", suffix=\"before\"):\n",
    "    for name in os.listdir(path_root):\n",
    "        path = os.path.join(path_root, name)\n",
    "        if not os.path.isdir(path):\n",
    "            continue\n",
    "        \n",
    "        # find every file which has _before.tiff at the end\n",
    "        raster_files = glob.glob(f\"{path_root}/{name}/*_{suffix}.tiff\")\n",
    "        print(\"reading:\", f\"{path_root}/{name}/*_{suffix}.tiff\")\n",
    "        \n",
    "        #print(\"Found raster files:\", raster_files)\n",
    "        \n",
    "        src_files_to_mosaic = [rasterio.open(fp) for fp in raster_files]\n",
    "        \n",
    "        # merge\n",
    "        mosaic, out_transform = merge(src_files_to_mosaic)\n",
    "        \n",
    "        # copy metadata and update it\n",
    "        out_meta = src_files_to_mosaic[0].meta.copy()\n",
    "        out_meta.update({\n",
    "            \"driver\": \"GTiff\",\n",
    "            \"height\": mosaic.shape[1],\n",
    "            \"width\": mosaic.shape[2],\n",
    "            \"transform\": out_transform\n",
    "        })\n",
    "        \n",
    "        # write to a new file\n",
    "        with rasterio.open(f\"./quads/{name}/{name.lower()}_{suffix}_merged.tiff\", \"w\", **out_meta) as dest:\n",
    "            print(f\"{name.lower()}_{suffix}_merged.tiff mosaic written in {path}\")\n",
    "            dest.write(mosaic)\n",
    "\n",
    "mergeTiff()\n",
    "mergeTiff(suffix=\"after\")"
   ]
  }
 ],
 "metadata": {
  "kernelspec": {
   "display_name": "mosaics_venv",
   "language": "python",
   "name": "mosaics_venv"
  },
  "language_info": {
   "codemirror_mode": {
    "name": "ipython",
    "version": 3
   },
   "file_extension": ".py",
   "mimetype": "text/x-python",
   "name": "python",
   "nbconvert_exporter": "python",
   "pygments_lexer": "ipython3",
   "version": "3.11.10"
  }
 },
 "nbformat": 4,
 "nbformat_minor": 5
}
